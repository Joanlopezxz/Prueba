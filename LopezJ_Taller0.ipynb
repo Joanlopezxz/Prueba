{
  "nbformat": 4,
  "nbformat_minor": 0,
  "metadata": {
    "colab": {
      "provenance": [],
      "toc_visible": true,
      "authorship_tag": "ABX9TyMlxvDM9vXOVmnaGwzTpDdA",
      "include_colab_link": true
    },
    "kernelspec": {
      "name": "python3",
      "display_name": "Python 3"
    },
    "language_info": {
      "name": "python"
    }
  },
  "cells": [
    {
      "cell_type": "markdown",
      "metadata": {
        "id": "view-in-github",
        "colab_type": "text"
      },
      "source": [
        "<a href=\"https://colab.research.google.com/github/Joanlopezxz/Prueba/blob/main/LopezJ_Taller0.ipynb\" target=\"_parent\"><img src=\"https://colab.research.google.com/assets/colab-badge.svg\" alt=\"Open In Colab\"/></a>"
      ]
    },
    {
      "cell_type": "markdown",
      "source": [
        "# Mi primera vez"
      ],
      "metadata": {
        "id": "4Mg7syW8gTwf"
      }
    },
    {
      "cell_type": "code",
      "execution_count": 8,
      "metadata": {
        "colab": {
          "base_uri": "https://localhost:8080/"
        },
        "id": "wj4dYXrEdKDA",
        "outputId": "cd5b1749-87cb-413d-ac97-b982e8a096de"
      },
      "outputs": [
        {
          "output_type": "stream",
          "name": "stdout",
          "text": [
            "Buenos días Mundo\n"
          ]
        }
      ],
      "source": [
        "print('Buenos días Mundo')"
      ]
    },
    {
      "cell_type": "markdown",
      "source": [
        "# Segundo ejercicio"
      ],
      "metadata": {
        "id": "IRXWA1PfetS7"
      }
    },
    {
      "cell_type": "markdown",
      "source": [
        "##  Too Easy"
      ],
      "metadata": {
        "id": "GeHEFO2Nfwxh"
      }
    },
    {
      "cell_type": "code",
      "source": [
        "print('Buenos días Johan')"
      ],
      "metadata": {
        "colab": {
          "base_uri": "https://localhost:8080/"
        },
        "id": "-MblSw57fMdn",
        "outputId": "6f3229c1-8256-4571-e3f5-97b2fb3462a0"
      },
      "execution_count": 9,
      "outputs": [
        {
          "output_type": "stream",
          "name": "stdout",
          "text": [
            "Buenos días Johan\n"
          ]
        }
      ]
    }
  ]
}